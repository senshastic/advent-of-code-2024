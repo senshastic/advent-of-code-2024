{
 "cells": [
  {
   "cell_type": "code",
   "execution_count": 1,
   "id": "84f8ee38-971f-406e-88fa-9372a2954a09",
   "metadata": {},
   "outputs": [],
   "source": [
    "with open(\"input.txt\", \"r\") as f:\n",
    "    messyafdata = f.read()"
   ]
  },
  {
   "cell_type": "code",
   "execution_count": 17,
   "id": "810e6662-37da-42cf-9034-101b3b0faa93",
   "metadata": {},
   "outputs": [],
   "source": [
    "def solve_part_1(data: str) -> int:\n",
    "    total = 0\n",
    "    mul_splits = data.split(\"mul(\")\n",
    "    for mul_split in mul_splits:\n",
    "        par_split = mul_split.split(\")\", 1)[0]\n",
    "        numbers = par_split.split(\",\")\n",
    "        if len(numbers) == 2 and numbers[0].isnumeric() and numbers[1].isnumeric():\n",
    "            total += int(numbers[0]) * int(numbers[1])\n",
    "    return total"
   ]
  },
  {
   "cell_type": "code",
   "execution_count": 18,
   "id": "10b180dc-fb5c-4335-a904-8e2ddbed16b9",
   "metadata": {},
   "outputs": [
    {
     "data": {
      "text/plain": [
       "157621318"
      ]
     },
     "execution_count": 18,
     "metadata": {},
     "output_type": "execute_result"
    }
   ],
   "source": [
    "solve_part_1(messyafdata)"
   ]
  },
  {
   "cell_type": "code",
   "execution_count": 21,
   "id": "a999c590-7097-4151-873e-ccd0a395223d",
   "metadata": {},
   "outputs": [],
   "source": [
    "def solve_part_2(data: str) -> int:\n",
    "    total = 0\n",
    "    do_splits = data.split(\"do()\")\n",
    "    new_data = \"\".join([x.split(\"don't()\", 1)[0] for x in do_splits])\n",
    "    return(solve_part_1(new_data)
   ]
  },
  {
   "cell_type": "code",
   "execution_count": 22,
   "id": "8574be4e-1ba2-469b-80ea-6daec62bf472",
   "metadata": {},
   "outputs": [
    {
     "data": {
      "text/plain": [
       "79845780"
      ]
     },
     "execution_count": 22,
     "metadata": {},
     "output_type": "execute_result"
    }
   ],
   "source": [
    "solve_part_2(messyafdata)"
   ]
  },
  {
   "cell_type": "code",
   "execution_count": null,
   "id": "e8a4298e-8079-4777-a30b-afe600d0f762",
   "metadata": {},
   "outputs": [],
   "source": []
  }
 ],
 "metadata": {
  "kernelspec": {
   "display_name": "Python 3 (ipykernel)",
   "language": "python",
   "name": "python3"
  },
  "language_info": {
   "codemirror_mode": {
    "name": "ipython",
    "version": 3
   },
   "file_extension": ".py",
   "mimetype": "text/x-python",
   "name": "python",
   "nbconvert_exporter": "python",
   "pygments_lexer": "ipython3",
   "version": "3.12.7"
  }
 },
 "nbformat": 4,
 "nbformat_minor": 5
}
