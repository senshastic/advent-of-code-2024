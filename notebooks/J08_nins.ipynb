{
 "cells": [
  {
   "cell_type": "markdown",
   "id": "0d13e75d-1c38-42cd-8975-84ae4321ed89",
   "metadata": {},
   "source": [
    "## Imports"
   ]
  },
  {
   "cell_type": "code",
   "execution_count": 1,
   "id": "d2c2a8b4",
   "metadata": {},
   "outputs": [],
   "source": [
    "from collections import defaultdict\n",
    "from copy import deepcopy\n",
    "from tqdm import tqdm\n"
   ]
  },
  {
   "cell_type": "code",
   "execution_count": 2,
   "id": "50b01151-9952-42b9-9534-b9d91a6d9ef4",
   "metadata": {},
   "outputs": [],
   "source": [
    "day = \"08\"\n"
   ]
  },
  {
   "cell_type": "code",
   "execution_count": 3,
   "id": "ff5966ba-d055-4c6b-bed2-f46b0b308ba9",
   "metadata": {},
   "outputs": [],
   "source": [
    "with open(f\"input_day{day}.txt\") as f:\n",
    "    grid = f.readlines()\n",
    "    grid = list(map(lambda x: [char for char in x.replace(\"\\n\", \"\")], grid))\n"
   ]
  },
  {
   "cell_type": "code",
   "execution_count": 4,
   "id": "40065c64",
   "metadata": {},
   "outputs": [
    {
     "name": "stdout",
     "output_type": "stream",
     "text": [
      "['.', '.', '.', '.', '.', '.', '.', '.', '.', '.', '.', 'V', '.', '.', '.', '.', '.', '.', '.', '.', '.', '.', '.', '.', '.', '.', '.', '.', '.', '.', 'b', '.', 'g', '.', '.', '.', '.', '.', '.', '.', '.', '.', '.', '.', '.', '.', '.', '.', '.', '.']\n",
      "['.', '.', '.', '.', '.', '.', '.', '.', '.', '.', '.', '.', '.', '.', '.', '.', '.', '.', '.', '.', '.', '.', '.', '.', '.', '.', '.', '.', '.', '.', '.', '.', '.', '.', 'g', '.', '.', '.', '.', '.', '.', '.', '.', '.', '.', '.', '.', '.', '.', '.']\n",
      "['.', '.', '.', '.', '.', '.', '.', '.', '.', '.', '.', '.', '.', '.', '.', '.', '.', '.', '.', '.', '.', '.', '.', '.', '.', '.', '.', '.', '.', 'c', '.', '.', '.', '.', '.', '.', '.', '.', '.', '.', '.', '.', '.', '.', '.', '.', '.', '.', '.', '.']\n",
      "['.', '.', '.', '.', '.', '.', '.', '.', '.', '.', '.', '.', 'T', '.', '.', '.', '.', '.', '.', '.', '.', 'Z', '.', '.', '.', '.', '.', '.', '.', 'P', '.', '.', '.', '.', '.', '.', '.', '.', '.', '.', '.', '.', '.', '.', '.', '.', '.', '.', '.', '.']\n"
     ]
    }
   ],
   "source": [
    "for row in grid[:4]:\n",
    "    print(row)\n"
   ]
  },
  {
   "cell_type": "code",
   "execution_count": 5,
   "id": "0d698d5c",
   "metadata": {},
   "outputs": [
    {
     "data": {
      "text/plain": [
       "dict_keys(['V', 'b', 'g', 'c', 'T', 'Z', 'P', 'x', 'H', 'R', 'f', 'A', 'l', 'k', '5', 'S', '0', 'N', 'L', 's', 't', '6', 'n', 'r', 'K', 'E', 'm', '3', 'W', '2', 'Q', 'M', 'h', '1', 'z', '4', 'e', 'Y', 'y', 'a', 'v', 'q', '7', '9', 'X', '8', 'B', 'C', 'G', 'p', 'F', 'D', 'd', 'w'])"
      ]
     },
     "execution_count": 5,
     "metadata": {},
     "output_type": "execute_result"
    }
   ],
   "source": [
    "antennas = defaultdict(list)\n",
    "n, m = len(grid), len(grid[0])\n",
    "\n",
    "for i in range(n):\n",
    "    for j in range(m):\n",
    "        if grid[i][j] != \".\":\n",
    "            antennas[grid[i][j]].append((i,j))\n",
    "\n",
    "antennas = dict(antennas)\n",
    "antennas.keys()\n"
   ]
  },
  {
   "cell_type": "markdown",
   "id": "6fd1928e-1d24-4542-ab41-288f42559c3a",
   "metadata": {},
   "source": [
    "## Part 1"
   ]
  },
  {
   "cell_type": "code",
   "execution_count": 6,
   "id": "a378a7f2",
   "metadata": {},
   "outputs": [],
   "source": [
    "original_grid = deepcopy(grid)"
   ]
  },
  {
   "cell_type": "code",
   "execution_count": 7,
   "id": "45e27284",
   "metadata": {},
   "outputs": [
    {
     "name": "stderr",
     "output_type": "stream",
     "text": [
      "100%|██████████| 54/54 [00:00<00:00, 89135.15it/s]\n"
     ]
    },
    {
     "data": {
      "text/plain": [
       "392"
      ]
     },
     "execution_count": 7,
     "metadata": {},
     "output_type": "execute_result"
    }
   ],
   "source": [
    "count = 0\n",
    "\n",
    "for symbol in tqdm(antennas.keys()):\n",
    "    for i1,j1 in antennas[symbol]:\n",
    "        for i2,j2 in antennas[symbol]:\n",
    "            if (i1,j1) != (i2,j2):\n",
    "                x1, y1 = 2*i1-i2, 2*j1-j2\n",
    "                if x1 in range(n) and y1 in range(m) and grid[x1][y1] != \"#\":\n",
    "                    grid[x1][y1] = \"#\"\n",
    "                    count += 1\n",
    "\n",
    "count\n"
   ]
  },
  {
   "cell_type": "markdown",
   "id": "0ca72f92",
   "metadata": {},
   "source": [
    "## Part 2"
   ]
  },
  {
   "cell_type": "code",
   "execution_count": 8,
   "id": "8f3a6093",
   "metadata": {},
   "outputs": [],
   "source": [
    "grid = deepcopy(original_grid)\n"
   ]
  },
  {
   "cell_type": "code",
   "execution_count": 9,
   "id": "e9e8d75d",
   "metadata": {},
   "outputs": [
    {
     "name": "stderr",
     "output_type": "stream",
     "text": [
      "100%|██████████| 54/54 [00:00<00:00, 21519.47it/s]\n"
     ]
    },
    {
     "data": {
      "text/plain": [
       "1235"
      ]
     },
     "execution_count": 9,
     "metadata": {},
     "output_type": "execute_result"
    }
   ],
   "source": [
    "count = 0\n",
    "\n",
    "for symbol in tqdm(antennas.keys()):\n",
    "    for i1,j1 in antennas[symbol]:\n",
    "        for i2,j2 in antennas[symbol]:\n",
    "            if (i1,j1) != (i2,j2):\n",
    "                k = 1\n",
    "                while i1 - k*(i2-i1) in range(n) and j1 - k*(j2-j1) in range(m):\n",
    "                    x1, y1 = i1 - k*(i2-i1), j1 - k*(j2-j1)\n",
    "                    if x1 in range(n) and y1 in range(m) and grid[x1][y1] != \"#\":\n",
    "                        grid[x1][y1] = \"#\"\n",
    "                        count += 1\n",
    "                    k += 1\n",
    "            elif grid[i1][j1] != \"#\":\n",
    "                grid[i1][j1] = \"#\"\n",
    "                count += 1\n",
    "\n",
    "count\n"
   ]
  },
  {
   "cell_type": "code",
   "execution_count": null,
   "id": "ba8ef299",
   "metadata": {},
   "outputs": [],
   "source": []
  }
 ],
 "metadata": {
  "kernelspec": {
   "display_name": "base",
   "language": "python",
   "name": "python3"
  },
  "language_info": {
   "codemirror_mode": {
    "name": "ipython",
    "version": 3
   },
   "file_extension": ".py",
   "mimetype": "text/x-python",
   "name": "python",
   "nbconvert_exporter": "python",
   "pygments_lexer": "ipython3",
   "version": "3.12.7"
  }
 },
 "nbformat": 4,
 "nbformat_minor": 5
}
