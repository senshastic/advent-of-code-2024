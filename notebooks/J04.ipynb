{
 "cells": [
  {
   "cell_type": "markdown",
   "metadata": {},
   "source": [
    "# Day 4: Ceres Search"
   ]
  },
  {
   "cell_type": "markdown",
   "metadata": {},
   "source": [
    "## Prompt "
   ]
  },
  {
   "cell_type": "markdown",
   "metadata": {},
   "source": [
    "\"Looks like the Chief's not here. Next!\" One of The Historians pulls out a device and pushes the only button on it. After a brief flash, you recognize the interior of the Ceres monitoring station!\n",
    "\n",
    "As the search for the Chief continues, a small Elf who lives on the station tugs on your shirt; she'd like to know if you could help her with her word search (your puzzle input). She only has to find one word: XMAS."
   ]
  },
  {
   "cell_type": "markdown",
   "metadata": {},
   "source": [
    "## Imports"
   ]
  },
  {
   "cell_type": "code",
   "execution_count": 38,
   "metadata": {},
   "outputs": [],
   "source": [
    "day = \"04\""
   ]
  },
  {
   "cell_type": "code",
   "execution_count": 39,
   "metadata": {},
   "outputs": [],
   "source": [
    "# import data\n",
    "with open(f\"input_day{day}.txt\", \"r\") as f:\n",
    "    strands_poser = f.read().splitlines()"
   ]
  },
  {
   "cell_type": "markdown",
   "metadata": {},
   "source": [
    "## Part 1"
   ]
  },
  {
   "cell_type": "markdown",
   "metadata": {},
   "source": [
    "This word search allows words to be horizontal, vertical, diagonal, written backwards, or even overlapping other words. It's a little unusual, though, as you don't merely need to find one instance of XMAS - you need to find all of them.\n",
    "\n",
    "Take a look at the little Elf's word search. **How many times does XMAS appear?**"
   ]
  },
  {
   "cell_type": "code",
   "execution_count": 40,
   "metadata": {},
   "outputs": [],
   "source": [
    "#ANCHOR: Define functions \n",
    "# Count occurrences of a word in the grid and cache diagonal data\n",
    "def count_word_occurrences(grid, word):\n",
    "    # Optimization, to make Nins happy\n",
    "    diagonals_tl_br = []\n",
    "    diagonals_bl_tr = []\n",
    "    a_positions = []  \n",
    "\n",
    "    # Rows and columns\n",
    "    rows = grid\n",
    "    cols = [''.join(row[col] for row in grid) for col in range(len(grid[0]))]\n",
    "\n",
    "    # Diagonals from top-left to bottom-right\n",
    "    for i in range(len(grid)):\n",
    "        diagonals_tl_br.append(''.join(grid[i + k][k] for k in range(min(len(grid) - i, len(grid[0])))))\n",
    "    for j in range(1, len(grid[0])):\n",
    "        diagonals_tl_br.append(''.join(grid[k][j + k] for k in range(min(len(grid), len(grid[0]) - j))))\n",
    "\n",
    "    # Diagonals from bottom-left to top-right\n",
    "    for i in range(len(grid)):\n",
    "        diagonals_bl_tr.append(''.join(grid[i - k][k] for k in range(min(i + 1, len(grid[0])))))\n",
    "    for j in range(1, len(grid[0])):\n",
    "        diagonals_bl_tr.append(''.join(grid[len(grid) - 1 - m][j + m] for m in range(min(len(grid) - j, len(grid[0]) - j))))\n",
    "\n",
    "    # Find positions of 'A' while iterating\n",
    "    for row in range(len(grid)):\n",
    "        for col in range(len(grid[0])):\n",
    "            if grid[row][col] == 'A':\n",
    "                a_positions.append((row, col))\n",
    "\n",
    "    # Combine all directions\n",
    "    all_directions = rows + cols + diagonals_tl_br + diagonals_bl_tr\n",
    "    all_directions += [string[::-1] for string in all_directions]  \n",
    "\n",
    "    word_count = sum(string.count(word) for string in all_directions)\n",
    "\n",
    "    # Return count and all my cached data\n",
    "    return word_count, diagonals_tl_br, diagonals_bl_tr, a_positions\n"
   ]
  },
  {
   "cell_type": "code",
   "execution_count": 41,
   "metadata": {},
   "outputs": [],
   "source": [
    "#ANCHOR Define the word \n",
    "word = \"XMAS\""
   ]
  },
  {
   "cell_type": "code",
   "execution_count": 42,
   "metadata": {},
   "outputs": [
    {
     "name": "stdout",
     "output_type": "stream",
     "text": [
      "Part 1: The word 'XMAS' appears 2549 times.\n"
     ]
    }
   ],
   "source": [
    "#ANCHOR Execution\n",
    "if __name__ == \"__main__\":\n",
    "\n",
    "    part1, diagonals_tl_br, diagonals_bl_tr, a_positions = count_word_occurrences(strands_poser, word)\n",
    "\n",
    "    # Print the results\n",
    "    print(f\"Part 1: The word '{word}' appears {part1} times.\")"
   ]
  },
  {
   "cell_type": "markdown",
   "metadata": {},
   "source": [
    "## Part 2"
   ]
  },
  {
   "cell_type": "markdown",
   "metadata": {},
   "source": [
    "The Elf looks quizzically at you. Did you misunderstand the assignment?\n",
    "\n",
    "Looking for the instructions, you flip over the word search to find that this isn't actually an XMAS puzzle; it's an X-MAS puzzle in which you're supposed to find two MAS in the shape of an X."
   ]
  },
  {
   "cell_type": "markdown",
   "metadata": {},
   "source": [
    "Flip the word search from the instructions back over to the word search side and try again. How many times does an X-MAS appear?"
   ]
  },
  {
   "cell_type": "code",
   "execution_count": 43,
   "metadata": {},
   "outputs": [],
   "source": [
    "#ANCHOR - Functions for part 2\n",
    "def count_x_mas(grid, diagonals_tl_br, diagonals_bl_tr, a_positions):\n",
    "    count = 0\n",
    "\n",
    "    # Check each position that could be the center of an X\n",
    "    for row, col in a_positions:\n",
    "        if row < 1 or row >= len(grid) - 1 or col < 1 or col >= len(grid[0]) - 1:\n",
    "            continue\n",
    "\n",
    "        # Check diagonals for pattern\n",
    "        top_left = grid[row - 1][col - 1]\n",
    "        bottom_right = grid[row + 1][col + 1]\n",
    "        top_right = grid[row - 1][col + 1]\n",
    "        bottom_left = grid[row + 1][col - 1]\n",
    "\n",
    "        # Validate pattern\n",
    "        if {top_left, bottom_right} == {\"M\", \"S\"} and {top_right, bottom_left} == {\"M\", \"S\"}:\n",
    "            count += 1\n",
    "\n",
    "    return count\n"
   ]
  },
  {
   "cell_type": "code",
   "execution_count": 45,
   "metadata": {},
   "outputs": [
    {
     "name": "stdout",
     "output_type": "stream",
     "text": [
      "Part 2: The X-MAS pattern appears 2003 times in the fake Strands.\n"
     ]
    }
   ],
   "source": [
    "# Main function to load the data, process it, and print the output\n",
    "if __name__ == \"__main__\":\n",
    "\n",
    "    part2 = count_x_mas(strands_poser, diagonals_tl_br, diagonals_bl_tr, a_positions)\n",
    "    \n",
    "    print(f\"Part 2: The X-MAS pattern appears {part2} times in the fake Strands.\")"
   ]
  }
 ],
 "metadata": {
  "kernelspec": {
   "display_name": "base",
   "language": "python",
   "name": "python3"
  },
  "language_info": {
   "codemirror_mode": {
    "name": "ipython",
    "version": 3
   },
   "file_extension": ".py",
   "mimetype": "text/x-python",
   "name": "python",
   "nbconvert_exporter": "python",
   "pygments_lexer": "ipython3",
   "version": "3.11.7"
  }
 },
 "nbformat": 4,
 "nbformat_minor": 2
}
