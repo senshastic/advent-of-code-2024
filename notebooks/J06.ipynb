{
 "cells": [
  {
   "cell_type": "markdown",
   "metadata": {},
   "source": [
    "# Day 6: Guard Gallivant"
   ]
  },
  {
   "cell_type": "markdown",
   "metadata": {},
   "source": [
    "## Prompt "
   ]
  },
  {
   "cell_type": "markdown",
   "metadata": {},
   "source": [
    "The Historians use their fancy device again, this time to whisk you all away to the North Pole prototype suit manufacturing lab... in the year 1518! It turns out that having direct access to history is very convenient for a group of historians.\n",
    "\n",
    "You still have to be careful of time paradoxes, and so it will be important to avoid anyone from 1518 while The Historians search for the Chief. Unfortunately, a single guard is patrolling this part of the lab.\n",
    "\n",
    "Maybe you can work out where the guard will go ahead of time so that The Historians can search safely?\n",
    "\n",
    "You start by making a map (your puzzle input) of the situation."
   ]
  },
  {
   "cell_type": "markdown",
   "metadata": {},
   "source": [
    "## Imports"
   ]
  },
  {
   "cell_type": "code",
   "execution_count": 1,
   "metadata": {},
   "outputs": [],
   "source": [
    "import pandas as pd\n",
    "from itertools import product"
   ]
  },
  {
   "cell_type": "code",
   "execution_count": 2,
   "metadata": {},
   "outputs": [],
   "source": [
    "day = \"06\""
   ]
  },
  {
   "cell_type": "code",
   "execution_count": 3,
   "metadata": {},
   "outputs": [],
   "source": [
    "df = pd.read_csv(f\"input_day{day}.txt\", delim_whitespace=True,header=None)\n",
    "df\n",
    "\n",
    "example_input = \"\"\"....#.....\n",
    ".........#\n",
    "..........\n",
    "..#.......\n",
    ".......#..\n",
    "..........\n",
    ".#..^.....\n",
    "........#.\n",
    "#.........\n",
    "......#...\"\"\""
   ]
  },
  {
   "cell_type": "markdown",
   "metadata": {},
   "source": [
    "## Part 1"
   ]
  },
  {
   "cell_type": "markdown",
   "metadata": {},
   "source": [
    "The map shows the current position of the guard with ^ (to indicate the guard is currently facing up from the perspective of the map). Any obstructions - crates, desks, alchemical reactors, etc. - are shown as #.\n",
    "\n",
    "Lab guards in 1518 follow a very strict patrol protocol which involves repeatedly following these steps:\n",
    "\n",
    "If there is something directly in front of you, turn right 90 degrees.\n",
    "Otherwise, take a step forward.\n",
    "\n",
    "By predicting the guard's route, you can determine which specific positions in the lab will be in the patrol path. Including the guard's starting position, the positions visited by the guard before leaving the area are marked with an X:\n",
    "\n",
    "Predict the path of the guard. **How many distinct positions will the guard visit before leaving the mapped area?**"
   ]
  },
  {
   "cell_type": "markdown",
   "metadata": {},
   "source": [
    "Define functions: "
   ]
  },
  {
   "cell_type": "code",
   "execution_count": 4,
   "metadata": {},
   "outputs": [],
   "source": [
    "def parse_map(map_input):\n",
    "    grid = [list(line) for line in map_input.splitlines()]\n",
    "    return pd.DataFrame(grid)\n",
    "\n",
    "# Find the guard and see which way they are going\n",
    "def find_guard(grid):\n",
    "    for direction in \"^>v<\":\n",
    "        for row in grid.index:\n",
    "            for col in grid.columns:\n",
    "                if grid.loc[row, col] == direction:\n",
    "                    return (row, col), direction\n",
    "    return None, None\n",
    "\n",
    "# Define rules\n",
    "DIRECTIONS = {\n",
    "    \"^\": (-1, 0),  # Up\n",
    "    \">\": (0, 1),   # Right\n",
    "    \"v\": (1, 0),   # Down\n",
    "    \"<\": (0, -1)   # Left\n",
    "}\n",
    "RIGHT_TURN = {\n",
    "    \"^\": \">\", \">\": \"v\", \"v\": \"<\", \"<\": \"^\"\n",
    "}\n",
    "\n",
    "# Make them move\n",
    "def simulate_guard(grid):\n",
    "    guard_pos, guard_dir = find_guard(grid)\n",
    "    if guard_pos is None:\n",
    "        raise ValueError(\"Guard not found in the map\")\n",
    "    \n",
    "    visited_positions = set()\n",
    "    \n",
    "    # Starting position is always visited\n",
    "    visited_positions.add(guard_pos)\n",
    "    \n",
    "    # Move it until the guard moves out of bounds\n",
    "    rows, cols = grid.shape\n",
    "    while True:\n",
    "        next_row = guard_pos[0] + DIRECTIONS[guard_dir][0]\n",
    "        next_col = guard_pos[1] + DIRECTIONS[guard_dir][1]\n",
    "        \n",
    "        # Check if out of bounds\n",
    "        if not (0 <= next_row < rows and 0 <= next_col < cols):\n",
    "            break\n",
    "        \n",
    "        # Check the cell in front\n",
    "        if grid.loc[next_row, next_col] == \"#\":\n",
    "            # Obstacle: turn right\n",
    "            guard_dir = RIGHT_TURN[guard_dir]\n",
    "        else:\n",
    "            guard_pos = (next_row, next_col)\n",
    "            visited_positions.add(guard_pos)\n",
    "    \n",
    "    return visited_positions"
   ]
  },
  {
   "cell_type": "markdown",
   "metadata": {},
   "source": [
    "Solving the example"
   ]
  },
  {
   "cell_type": "code",
   "execution_count": 5,
   "metadata": {},
   "outputs": [
    {
     "name": "stdout",
     "output_type": "stream",
     "text": [
      "Test map - 41\n"
     ]
    }
   ],
   "source": [
    "grid = parse_map(example_input)\n",
    "visited_positions = simulate_guard(grid)\n",
    "\n",
    "\n",
    "print(f\"Test map - {len(visited_positions)}\")"
   ]
  },
  {
   "cell_type": "markdown",
   "metadata": {},
   "source": [
    "Solving the actual problem"
   ]
  },
  {
   "cell_type": "code",
   "execution_count": 6,
   "metadata": {},
   "outputs": [
    {
     "name": "stdout",
     "output_type": "stream",
     "text": [
      "File map - 5208\n"
     ]
    }
   ],
   "source": [
    "file_map = pd.DataFrame([list(row[0]) for row in df.itertuples(index=False)])\n",
    "\n",
    "visited_positions_file = simulate_guard(file_map)\n",
    "\n",
    "# Output the result for the file input\n",
    "print(f\"File map - {len(visited_positions_file)}\")"
   ]
  },
  {
   "cell_type": "markdown",
   "metadata": {},
   "source": [
    "## Part 2"
   ]
  },
  {
   "cell_type": "markdown",
   "metadata": {},
   "source": [
    "While The Historians begin working around the guard's patrol route, you borrow their fancy device and step outside the lab. From the safety of a supply closet, you time travel through the last few months and record the nightly status of the lab's guard post on the walls of the closet.\n",
    "\n",
    "Returning after what seems like only a few seconds to The Historians, they explain that the guard's patrol area is simply too large for them to safely search the lab without getting caught.\n",
    "\n",
    "Fortunately, they are pretty sure that adding a single new obstruction won't cause a time paradox. They'd like to place the new obstruction in such a way that the guard will get stuck in a loop, making the rest of the lab safe to search.\n",
    "\n",
    "To have the lowest chance of creating a time paradox, The Historians would like to know all of the possible positions for such an obstruction. The new obstruction can't be placed at the guard's starting position - the guard is there right now and would notice.\n",
    "\n",
    "In the above example, there are only 6 different positions where a new obstruction would cause the guard to get stuck in a loop. The diagrams of these six situations use O to mark the new obstruction, | to show a position where the guard moves up/down, - to show a position where the guard moves left/right, and + to show a position where the guard moves both up/down and left/right.\n",
    "\n",
    "It doesn't really matter what you choose to use as an obstacle so long as you and The Historians can put it into position without the guard noticing. The important thing is having enough options that you can find one that minimizes time paradoxes, and in this example, there are 6 different positions you could choose.\n",
    "\n",
    "You need to get the guard stuck in a loop by adding a single new obstruction. **How many different positions could you choose for this obstruction?**"
   ]
  },
  {
   "cell_type": "markdown",
   "metadata": {},
   "source": [
    "Define additional function/modify existing"
   ]
  },
  {
   "cell_type": "code",
   "execution_count": null,
   "metadata": {},
   "outputs": [],
   "source": [
    "def simulate_guard(grid):\n",
    "    guard_pos, guard_dir = find_guard(grid)\n",
    "    if guard_pos is None:\n",
    "        raise ValueError(\"Guard not found in the map\")\n",
    "    \n",
    "    visited_states = set()\n",
    "    visited_positions = set()\n",
    "    rows, cols = grid.shape\n",
    "\n",
    "    while True:\n",
    "        state = (guard_pos, guard_dir)\n",
    "        if state in visited_states:\n",
    "            return visited_positions, True  # Cycle detected!!!\n",
    "        visited_states.add(state)\n",
    "        visited_positions.add(guard_pos)\n",
    "\n",
    "        next_row = guard_pos[0] + DIRECTIONS[guard_dir][0]\n",
    "        next_col = guard_pos[1] + DIRECTIONS[guard_dir][1]\n",
    "\n",
    "        if not (0 <= next_row < rows and 0 <= next_col < cols):\n",
    "            break\n",
    "\n",
    "        if grid.loc[next_row, next_col] == \"#\":\n",
    "            guard_dir = RIGHT_TURN[guard_dir]\n",
    "        else:\n",
    "            guard_pos = (next_row, next_col)\n",
    "\n",
    "    return visited_positions, False\n",
    "\n",
    "def find_obstruction_positions(grid):\n",
    "    original_grid = grid.copy()\n",
    "    guard_start, _ = find_guard(grid)\n",
    "    if guard_start is None:\n",
    "        raise ValueError(\"Guard not found in the map\")\n",
    "\n",
    "    visited_positions, _ = simulate_guard(grid)\n",
    "    obstruction_positions = set()\n",
    "\n",
    "    for pos in visited_positions:\n",
    "        row, col = pos\n",
    "        if pos == guard_start or grid.loc[row, col] != \".\":\n",
    "            continue\n",
    "        \n",
    "        grid.loc[row, col] = \"#\"\n",
    "        _, is_loop = simulate_guard(grid)\n",
    "        if is_loop:\n",
    "            obstruction_positions.add(pos)\n",
    "        grid.loc[row, col] = original_grid.loc[row, col]  # Reset the cell\n",
    "\n",
    "    return obstruction_positions\n"
   ]
  },
  {
   "cell_type": "markdown",
   "metadata": {},
   "source": [
    "Test Example"
   ]
  },
  {
   "cell_type": "code",
   "execution_count": 8,
   "metadata": {},
   "outputs": [
    {
     "name": "stdout",
     "output_type": "stream",
     "text": [
      "Example map - 6\n"
     ]
    }
   ],
   "source": [
    "obstruction_positions = find_obstruction_positions(grid)\n",
    "print(f\"Example map - {len(obstruction_positions)}\")"
   ]
  },
  {
   "cell_type": "markdown",
   "metadata": {},
   "source": [
    "Solve actual pb: "
   ]
  },
  {
   "cell_type": "code",
   "execution_count": 9,
   "metadata": {},
   "outputs": [
    {
     "name": "stdout",
     "output_type": "stream",
     "text": [
      "File map - 1972\n"
     ]
    }
   ],
   "source": [
    "obstruction_positions_file = find_obstruction_positions(file_map)\n",
    "\n",
    "print(f\"File map - {len(obstruction_positions_file)}\")"
   ]
  }
 ],
 "metadata": {
  "kernelspec": {
   "display_name": "base",
   "language": "python",
   "name": "python3"
  },
  "language_info": {
   "codemirror_mode": {
    "name": "ipython",
    "version": 3
   },
   "file_extension": ".py",
   "mimetype": "text/x-python",
   "name": "python",
   "nbconvert_exporter": "python",
   "pygments_lexer": "ipython3",
   "version": "3.11.7"
  }
 },
 "nbformat": 4,
 "nbformat_minor": 2
}
